{
  "nbformat": 4,
  "nbformat_minor": 0,
  "metadata": {
    "colab": {
      "provenance": []
    },
    "kernelspec": {
      "name": "python3",
      "display_name": "Python 3"
    },
    "language_info": {
      "name": "python"
    }
  },
  "cells": [
    {
      "cell_type": "code",
      "source": [
        "## TASK SET 1 ##\n",
        "addr_book = {'Smith':['509-444-2121','next door neighbor'],\n",
        "             'Malek':['208-544-8686','room mate'],\n",
        "             'Quresh':['570-751-2121', 'Cousin']}\n",
        "\n",
        "print(addr_book['Smith'][0])\n",
        "addr_book['Malek'][1] = 'Best Friend'\n",
        "print(addr_book)\n",
        "\n",
        "for name in addr_book:\n",
        "  print(name, addr_book[name][0])\n",
        "#Done"
      ],
      "metadata": {
        "id": "j-8O2Qi4duJx",
        "colab": {
          "base_uri": "https://localhost:8080/"
        },
        "outputId": "a465c6e6-4735-41f7-80c7-b8054f88c6ba"
      },
      "execution_count": null,
      "outputs": [
        {
          "output_type": "stream",
          "name": "stdout",
          "text": [
            "509-444-2121\n",
            "{'Smith': ['509-444-2121', 'next door neighbor'], 'Malek': ['208-544-8686', 'Best Friend'], 'Quresh': ['570-751-2121', 'Cousin']}\n",
            "Smith 509-444-2121\n",
            "Malek 208-544-8686\n",
            "Quresh 570-751-2121\n"
          ]
        }
      ]
    },
    {
      "cell_type": "code",
      "source": [
        "## TASK SET 2 ##\n",
        "sales = [132849, 23487, 34829, 489247, 574872, 698374, 73498]\n",
        "print(sales[4:])\n",
        "print(sales[1:4])\n",
        "sales.append(885434)\n",
        "print(sales)\n",
        "##Done\n"
      ],
      "metadata": {
        "colab": {
          "base_uri": "https://localhost:8080/"
        },
        "id": "FyDB_ATTKuVY",
        "outputId": "79e72746-6a52-4c96-a51b-8a8e9dd67639"
      },
      "execution_count": null,
      "outputs": [
        {
          "output_type": "stream",
          "name": "stdout",
          "text": [
            "[574872, 698374, 73498]\n",
            "[23487, 34829, 489247]\n",
            "[132849, 23487, 34829, 489247, 574872, 698374, 73498, 885434]\n"
          ]
        }
      ]
    },
    {
      "cell_type": "code",
      "source": [
        "from ast import Num\n",
        "## TASK SET 3 ##\n",
        "def listinator(list1, list2, num):\n",
        "  Tlist = list1 + list2\n",
        "  Rlist = list1 * num\n",
        "  Alist = list2 + [num]\n",
        "  print(Tlist, Rlist, Alist)\n",
        "  return (Tlist, Rlist, Alist)\n",
        "\n",
        "pets = ['llama', 'fish', 'rat']\n",
        "lockers = [23, 18, 77, 26]\n",
        "\n",
        "list_results = listinator(pets, lockers, 4)\n",
        "for results in list_results:\n",
        "  print(results)\n",
        "#Done"
      ],
      "metadata": {
        "colab": {
          "base_uri": "https://localhost:8080/"
        },
        "id": "vFufGoPHLhUz",
        "outputId": "1b444910-7306-462f-d1f9-a343aae58dcc"
      },
      "execution_count": null,
      "outputs": [
        {
          "output_type": "stream",
          "name": "stdout",
          "text": [
            "['llama', 'fish', 'rat', 23, 18, 77, 26] ['llama', 'fish', 'rat', 'llama', 'fish', 'rat', 'llama', 'fish', 'rat', 'llama', 'fish', 'rat'] [23, 18, 77, 26, 4]\n",
            "['llama', 'fish', 'rat', 23, 18, 77, 26]\n",
            "['llama', 'fish', 'rat', 'llama', 'fish', 'rat', 'llama', 'fish', 'rat', 'llama', 'fish', 'rat']\n",
            "[23, 18, 77, 26, 4]\n"
          ]
        }
      ]
    },
    {
      "cell_type": "code",
      "source": [
        "## TASK SET 4 ##\n",
        "# 1.\n",
        "for i in range( 6, 73, 3):\n",
        "  print(i, end=\"*\")\n",
        "\n",
        "# 2.\n",
        "for k in range(-200,200,1):\n",
        "  print(k, end=\"/\")\n",
        "#Done"
      ],
      "metadata": {
        "colab": {
          "base_uri": "https://localhost:8080/"
        },
        "id": "o51Bost9OOnN",
        "outputId": "a9e1d2b4-a0a7-4509-ab42-d7ab0f797425"
      },
      "execution_count": null,
      "outputs": [
        {
          "output_type": "stream",
          "name": "stdout",
          "text": [
            "6*9*12*15*18*21*24*27*30*33*36*39*42*45*48*51*54*57*60*63*66*69*72*-200/-199/-198/-197/-196/-195/-194/-193/-192/-191/-190/-189/-188/-187/-186/-185/-184/-183/-182/-181/-180/-179/-178/-177/-176/-175/-174/-173/-172/-171/-170/-169/-168/-167/-166/-165/-164/-163/-162/-161/-160/-159/-158/-157/-156/-155/-154/-153/-152/-151/-150/-149/-148/-147/-146/-145/-144/-143/-142/-141/-140/-139/-138/-137/-136/-135/-134/-133/-132/-131/-130/-129/-128/-127/-126/-125/-124/-123/-122/-121/-120/-119/-118/-117/-116/-115/-114/-113/-112/-111/-110/-109/-108/-107/-106/-105/-104/-103/-102/-101/-100/-99/-98/-97/-96/-95/-94/-93/-92/-91/-90/-89/-88/-87/-86/-85/-84/-83/-82/-81/-80/-79/-78/-77/-76/-75/-74/-73/-72/-71/-70/-69/-68/-67/-66/-65/-64/-63/-62/-61/-60/-59/-58/-57/-56/-55/-54/-53/-52/-51/-50/-49/-48/-47/-46/-45/-44/-43/-42/-41/-40/-39/-38/-37/-36/-35/-34/-33/-32/-31/-30/-29/-28/-27/-26/-25/-24/-23/-22/-21/-20/-19/-18/-17/-16/-15/-14/-13/-12/-11/-10/-9/-8/-7/-6/-5/-4/-3/-2/-1/0/1/2/3/4/5/6/7/8/9/10/11/12/13/14/15/16/17/18/19/20/21/22/23/24/25/26/27/28/29/30/31/32/33/34/35/36/37/38/39/40/41/42/43/44/45/46/47/48/49/50/51/52/53/54/55/56/57/58/59/60/61/62/63/64/65/66/67/68/69/70/71/72/73/74/75/76/77/78/79/80/81/82/83/84/85/86/87/88/89/90/91/92/93/94/95/96/97/98/99/100/101/102/103/104/105/106/107/108/109/110/111/112/113/114/115/116/117/118/119/120/121/122/123/124/125/126/127/128/129/130/131/132/133/134/135/136/137/138/139/140/141/142/143/144/145/146/147/148/149/150/151/152/153/154/155/156/157/158/159/160/161/162/163/164/165/166/167/168/169/170/171/172/173/174/175/176/177/178/179/180/181/182/183/184/185/186/187/188/189/190/191/192/193/194/195/196/197/198/199/"
          ]
        }
      ]
    },
    {
      "cell_type": "code",
      "source": [
        "## TASK SET 5 ##\n",
        "def singularize(name):\n",
        "  if name[-1] == 's':\n",
        "    print(name[:-1])\n",
        "  else:\n",
        "    print('not plural')\n",
        "\n",
        "singularize(\"Apples\")\n",
        "singularize(\"mom's\")\n",
        "singularize(\"mess\")\n",
        "singularize(\"Christmas\")\n",
        "singularize(\"Present\")\n",
        "#Done"
      ],
      "metadata": {
        "colab": {
          "base_uri": "https://localhost:8080/"
        },
        "id": "FRD686PtPfW8",
        "outputId": "a8929316-7a61-4011-e364-bfa2555ffa14"
      },
      "execution_count": null,
      "outputs": [
        {
          "output_type": "stream",
          "name": "stdout",
          "text": [
            "Apple\n",
            "mom'\n",
            "mes\n",
            "Christma\n",
            "not plural\n"
          ]
        }
      ]
    }
  ]
}